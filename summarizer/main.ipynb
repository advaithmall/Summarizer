{
 "cells": [
  {
   "cell_type": "code",
   "execution_count": 98,
   "metadata": {},
   "outputs": [],
   "source": [
    "import nltk\n",
    "import numpy\n",
    "import pandas\n",
    "import re\n",
    "from nltk.corpus import stopwords\n",
    "from nltk.stem import PorterStemmer\n",
    "import pprint"
   ]
  },
  {
   "cell_type": "code",
   "execution_count": 99,
   "metadata": {},
   "outputs": [],
   "source": [
    "file = open(\"data.txt\", \"r\")\n",
    "text = file.read()\n",
    "final_text = \"\"\n",
    "my_lines = text.split('.')\n",
    "for char in text:\n",
    "    if char.isalnum() or char=='.' or char==' ':\n",
    "        final_text+=char\n",
    "    else:\n",
    "        continue\n",
    "#print(final_text)\n",
    "lines = final_text.split('.')\n",
    "for line in lines:\n",
    "    if line == ' ' or line =='':\n",
    "        lines.remove(line)\n",
    "i=0\n",
    "lines_words = list()\n",
    "for line in lines:\n",
    "    temp = line.split(' ')\n",
    "    temp.insert(0,i)\n",
    "    lines_words.append(temp)\n",
    "    i+=1\n",
    "stemmer = PorterStemmer()\n",
    "stop_words = nltk.corpus.stopwords.words(\"english\")\n"
   ]
  },
  {
   "cell_type": "code",
   "execution_count": 100,
   "metadata": {},
   "outputs": [],
   "source": [
    "final_list = list()\n",
    "for line in lines_words:\n",
    "    temp_list = list()\n",
    "    for word in line:\n",
    "        word = str(word)\n",
    "        if word.isnumeric():\n",
    "            temp_list.append(word)\n",
    "            continue\n",
    "        if word.isalpha():\n",
    "            if word in stop_words:\n",
    "                continue\n",
    "            else:\n",
    "                word = word.lower()\n",
    "                word = stemmer.stem(word)\n",
    "                temp_list.append(word)\n",
    "    final_list.append(temp_list)\n",
    "#print(final_list)\n",
    "                "
   ]
  },
  {
   "cell_type": "code",
   "execution_count": null,
   "metadata": {},
   "outputs": [],
   "source": [
    "hash_map = dict()\n",
    "for line in final_list:\n",
    "    for word in line:\n",
    "        if word.isalpha():\n",
    "            if word in hash_map.keys():\n",
    "                hash_map[word]+=1\n",
    "            if word not in hash_map.keys():\n",
    "                hash_map[word]=1\n",
    "max_freq = max(hash_map.values())\n",
    "list_weights = list()\n",
    "for line in final_list:\n",
    "    total = 0\n",
    "    for word in line:\n",
    "        if word.isalpha():\n",
    "            total += (hash_map[word])/max_freq\n",
    "    list_weights.append(total)\n",
    "avg = 0\n",
    "for i in list_weights:\n",
    "    avg+=i\n",
    "avg = avg/len(list_weights)\n",
    "f = open(\"out.txt\",\"w\")\n",
    "for i in range(0,len(list_weights)):\n",
    "    if list_weights[i] >=(avg*4/5):\n",
    "        print(my_lines[i],\".\", file =f)"
   ]
  }
 ],
 "metadata": {
  "kernelspec": {
   "display_name": "Python 3.10.6 64-bit",
   "language": "python",
   "name": "python3"
  },
  "language_info": {
   "codemirror_mode": {
    "name": "ipython",
    "version": 3
   },
   "file_extension": ".py",
   "mimetype": "text/x-python",
   "name": "python",
   "nbconvert_exporter": "python",
   "pygments_lexer": "ipython3",
   "version": "3.10.6"
  },
  "orig_nbformat": 4,
  "vscode": {
   "interpreter": {
    "hash": "31f2aee4e71d21fbe5cf8b01ff0e069b9275f58929596ceb00d14d90e3e16cd6"
   }
  }
 },
 "nbformat": 4,
 "nbformat_minor": 2
}
